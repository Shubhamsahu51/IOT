{
  "nbformat": 4,
  "nbformat_minor": 0,
  "metadata": {
    "colab": {
      "name": "Untitled18.ipynb",
      "provenance": [],
      "collapsed_sections": [],
      "authorship_tag": "ABX9TyOd1Aij12aZ9/QqvBZjdc72",
      "include_colab_link": true
    },
    "kernelspec": {
      "name": "python3",
      "display_name": "Python 3"
    }
  },
  "cells": [
    {
      "cell_type": "markdown",
      "metadata": {
        "id": "view-in-github",
        "colab_type": "text"
      },
      "source": [
        "<a href=\"https://colab.research.google.com/github/Shubhamsahu51/IOT/blob/main/Untitled18.ipynb\" target=\"_parent\"><img src=\"https://colab.research.google.com/assets/colab-badge.svg\" alt=\"Open In Colab\"/></a>"
      ]
    },
    {
      "cell_type": "code",
      "metadata": {
        "id": "8Q1JfcExl_3N"
      },
      "source": [
        "import RPi.GPIO as GPIO          # import RPi.GPIO module.\r\n",
        "GPIO.setmode(GPIO.BOARD)         # choose BCM or BOARD.\r\n",
        "import time                      # calling for time to provide delays in program\r\n",
        "IO.setwarnings(False)            # do not show any warnings\r\n"
      ],
      "execution_count": null,
      "outputs": []
    },
    {
      "cell_type": "code",
      "metadata": {
        "id": "e5otppGGnsFe"
      },
      "source": [
        "# initialize GPIO PIN setup\r\n",
        "GPIO.setup (8,GPIO.IN)\r\n",
        "GPIO.input(8,GPIO.HIGH)\r\n"
      ],
      "execution_count": null,
      "outputs": []
    },
    {
      "cell_type": "code",
      "metadata": {
        "id": "Qh_DSHTztCk-"
      },
      "source": [
        "#Reading random generated data\r\n",
        "from random import seed\r\n",
        "from random import randint\r\n",
        "\r\n",
        "    while True:\r\n",
        "        temp = randint(0,50)\r\n",
        "        humidity = randint(20,90)\r\n",
        "        if (GPIO.input(8)==True)\r\n",
        "          print (\"temperature is {0} and humidity is {1}\".format(temp,humidity))\r\n",
        "        sleep(.01)  \r\n",
        "    except KeyboardInterrupt:  \r\n",
        "        exit()"
      ],
      "execution_count": null,
      "outputs": []
    },
    {
      "cell_type": "code",
      "metadata": {
        "id": "Ygv5NU6grB77"
      },
      "source": [
        "#Controlling Part\r\n",
        "from random import seed\r\n",
        "from random import randint\r\n",
        "\r\n",
        "temp = randint(0,50)\r\n",
        "humidity = randint(20,90)\r\n",
        "threshold = 50\r\n",
        "if (temp>threshold):\r\n",
        "  print(\"Weather is hot and the value of humidity is \",humidity)\r\n",
        "else:\r\n",
        "print(\"Weather is cold and the value of humidity is \",humidity)"
      ],
      "execution_count": null,
      "outputs": []
    }
  ]
}